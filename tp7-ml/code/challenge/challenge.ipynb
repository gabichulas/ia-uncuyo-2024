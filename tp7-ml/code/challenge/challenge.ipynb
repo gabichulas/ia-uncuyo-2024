{
 "cells": [
  {
   "cell_type": "code",
   "execution_count": 2,
   "metadata": {
    "vscode": {
     "languageId": "r"
    }
   },
   "outputs": [
    {
     "name": "stderr",
     "output_type": "stream",
     "text": [
      "Installing package into 'C:/Users/lopez/AppData/Local/R/win-library/4.4'\n",
      "(as 'lib' is unspecified)\n",
      "\n"
     ]
    },
    {
     "name": "stdout",
     "output_type": "stream",
     "text": [
      "package 'randomForest' successfully unpacked and MD5 sums checked\n",
      "\n",
      "The downloaded binary packages are in\n",
      "\tC:\\Users\\lopez\\AppData\\Local\\Temp\\RtmpC81pUc\\downloaded_packages\n"
     ]
    }
   ],
   "source": [
    "install.packages(\"randomForest\")"
   ]
  },
  {
   "cell_type": "code",
   "execution_count": 5,
   "metadata": {
    "vscode": {
     "languageId": "r"
    }
   },
   "outputs": [],
   "source": [
    "library(randomForest)\n",
    "library(dplyr)\n",
    "library(readr)"
   ]
  },
  {
   "cell_type": "code",
   "execution_count": 13,
   "metadata": {
    "vscode": {
     "languageId": "r"
    }
   },
   "outputs": [],
   "source": [
    "df <- read_csv('https://raw.githubusercontent.com/gabichulas/ia-uncuyo-2024/refs/heads/main/tp7-ml/data/arbolado-mendoza-dataset-train.csv', show_col_types = FALSE)\n",
    "test_df <- read_csv('https://raw.githubusercontent.com/gabichulas/ia-uncuyo-2024/refs/heads/main/tp7-ml/data/arbolado-mendoza-dataset-validation.csv', show_col_types = FALSE)"
   ]
  },
  {
   "cell_type": "code",
   "execution_count": 14,
   "metadata": {
    "vscode": {
     "languageId": "r"
    }
   },
   "outputs": [],
   "source": [
    "set_1 <- df[df$inclinacion_peligrosa == 1, ]\n",
    "set_0 <- df %>% filter(inclinacion_peligrosa == 0) %>% sample_n(3500)\n",
    "data <- rbind(set_1, set_0)"
   ]
  },
  {
   "cell_type": "code",
   "execution_count": 15,
   "metadata": {
    "vscode": {
     "languageId": "r"
    }
   },
   "outputs": [],
   "source": [
    "x <- data[, !(colnames(data) %in% c(\"inclinacion_peligrosa\", \"id\", \"nombre_seccion\", \"area_seccion\",\"seccion\", \"ultima_modificacion\",\"circ_tronco_cm\"))]\n",
    "y <- factor(data$inclinacion_peligrosa)"
   ]
  },
  {
   "cell_type": "code",
   "execution_count": 63,
   "metadata": {
    "vscode": {
     "languageId": "r"
    }
   },
   "outputs": [],
   "source": [
    "trainer <- randomForest(x = x, y = y, ntree = 15000, mtry = 2)"
   ]
  },
  {
   "cell_type": "code",
   "execution_count": 64,
   "metadata": {
    "vscode": {
     "languageId": "r"
    }
   },
   "outputs": [],
   "source": [
    "predictions <- predict(trainer, newdata = test_df)"
   ]
  },
  {
   "cell_type": "code",
   "execution_count": 65,
   "metadata": {
    "vscode": {
     "languageId": "r"
    }
   },
   "outputs": [
    {
     "name": "stdout",
     "output_type": "stream",
     "text": [
      "\n",
      "Call:\n",
      " randomForest(x = x, y = y, ntree = 15000, mtry = 2) \n",
      "               Type of random forest: classification\n",
      "                     Number of trees: 15000\n",
      "No. of variables tried at each split: 2\n",
      "\n",
      "        OOB estimate of  error rate: 29.39%\n",
      "Confusion matrix:\n",
      "     0    1 class.error\n",
      "0 2479 1021   0.2917143\n",
      "1  861 2042   0.2965897\n"
     ]
    }
   ],
   "source": [
    "print(trainer)"
   ]
  },
  {
   "cell_type": "code",
   "execution_count": 71,
   "metadata": {
    "vscode": {
     "languageId": "r"
    }
   },
   "outputs": [
    {
     "name": "stdout",
     "output_type": "stream",
     "text": [
      "\n",
      "Call:\n",
      " randomForest(x = x, y = y, ntree = best_ntree, mtry = best_mtry) \n",
      "               Type of random forest: classification\n",
      "                     Number of trees: 1500\n",
      "No. of variables tried at each split: 2\n",
      "\n",
      "        OOB estimate of  error rate: 29.21%\n",
      "Confusion matrix:\n",
      "     0    1 class.error\n",
      "0 2487 1013   0.2894286\n",
      "1  857 2046   0.2952118\n"
     ]
    }
   ],
   "source": [
    "library(randomForest)\n",
    "\n",
    "# Definir una cuadrícula de hiperparámetros\n",
    "tuneGrid <- expand.grid(\n",
    "  ntree = c(500, 1000, 1500, 2000, 2500, 3000, 3500, 4000, 5000, 10000, 15000),\n",
    "  mtry = c(2, 3, 4)\n",
    ")\n",
    "\n",
    "# Función para entrenar el modelo con diferentes combinaciones de hiperparámetros\n",
    "tuneRF <- function(ntree, mtry) {\n",
    "  model <- randomForest(x = x, y = y, ntree = ntree, mtry = mtry)\n",
    "  return(model)\n",
    "}\n",
    "\n",
    "# Evaluar el rendimiento de cada combinación de hiperparámetros\n",
    "results <- apply(tuneGrid, 1, function(params) {\n",
    "  model <- tuneRF(params[\"ntree\"], params[\"mtry\"])\n",
    "  oob_error <- model$err.rate[nrow(model$err.rate), \"OOB\"]\n",
    "  return(oob_error)\n",
    "})\n",
    "\n",
    "# Seleccionar la mejor combinación de hiperparámetros\n",
    "best_params <- tuneGrid[which.min(results), ]\n",
    "best_ntree <- as.numeric(best_params[\"ntree\"])\n",
    "best_mtry <- as.numeric(best_params[\"mtry\"])\n",
    "\n",
    "# Entrenar el mejor modelo\n",
    "best_model <- randomForest(x = x, y = y, ntree = best_ntree, mtry = best_mtry)\n",
    "\n",
    "print(best_model)"
   ]
  },
  {
   "cell_type": "code",
   "execution_count": null,
   "metadata": {
    "vscode": {
     "languageId": "r"
    }
   },
   "outputs": [],
   "source": [
    "# Generar predicciones usando el mejor modelo\n",
    "predicciones <- predict(best_model, newdata = test_df)\n",
    "\n",
    "# Crear un data frame con las predicciones\n",
    "submission <- data.frame(ID = 1:length(predicciones), inclinacion_peligrosa = predicciones)\n",
    "\n",
    "# Guardar el data frame en un archivo CSV\n",
    "write.csv(submission, file = \"submission.csv\", row.names = FALSE)"
   ]
  }
 ],
 "metadata": {
  "kernelspec": {
   "display_name": "R",
   "language": "R",
   "name": "ir"
  },
  "language_info": {
   "codemirror_mode": "r",
   "file_extension": ".r",
   "mimetype": "text/x-r-source",
   "name": "R",
   "pygments_lexer": "r",
   "version": "4.4.1"
  }
 },
 "nbformat": 4,
 "nbformat_minor": 2
}
