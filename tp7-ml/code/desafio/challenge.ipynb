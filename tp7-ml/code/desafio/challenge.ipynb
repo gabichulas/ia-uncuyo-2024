{
 "cells": [
  {
   "cell_type": "code",
   "execution_count": 2,
   "metadata": {
    "vscode": {
     "languageId": "r"
    }
   },
   "outputs": [
    {
     "name": "stderr",
     "output_type": "stream",
     "text": [
      "Installing package into 'C:/Users/lopez/AppData/Local/R/win-library/4.4'\n",
      "(as 'lib' is unspecified)\n",
      "\n"
     ]
    },
    {
     "name": "stdout",
     "output_type": "stream",
     "text": [
      "package 'randomForest' successfully unpacked and MD5 sums checked\n",
      "\n",
      "The downloaded binary packages are in\n",
      "\tC:\\Users\\lopez\\AppData\\Local\\Temp\\RtmpC81pUc\\downloaded_packages\n"
     ]
    }
   ],
   "source": [
    "install.packages(\"randomForest\")"
   ]
  },
  {
   "cell_type": "code",
   "execution_count": 1,
   "metadata": {
    "vscode": {
     "languageId": "r"
    }
   },
   "outputs": [
    {
     "name": "stderr",
     "output_type": "stream",
     "text": [
      "Warning message:\n",
      "\"package 'randomForest' was built under R version 4.4.2\"\n",
      "randomForest 4.7-1.2\n",
      "\n",
      "Type rfNews() to see new features/changes/bug fixes.\n",
      "\n",
      "\n",
      "Adjuntando el paquete: 'dplyr'\n",
      "\n",
      "\n",
      "The following object is masked from 'package:randomForest':\n",
      "\n",
      "    combine\n",
      "\n",
      "\n",
      "The following objects are masked from 'package:stats':\n",
      "\n",
      "    filter, lag\n",
      "\n",
      "\n",
      "The following objects are masked from 'package:base':\n",
      "\n",
      "    intersect, setdiff, setequal, union\n",
      "\n",
      "\n",
      "Cargando paquete requerido: ggplot2\n",
      "\n",
      "\n",
      "Adjuntando el paquete: 'ggplot2'\n",
      "\n",
      "\n",
      "The following object is masked from 'package:randomForest':\n",
      "\n",
      "    margin\n",
      "\n",
      "\n",
      "Cargando paquete requerido: lattice\n",
      "\n"
     ]
    }
   ],
   "source": [
    "library(randomForest)\n",
    "library(dplyr)\n",
    "library(readr)\n",
    "library(e1071)\n",
    "library(caret)"
   ]
  },
  {
   "cell_type": "code",
   "execution_count": 2,
   "metadata": {
    "vscode": {
     "languageId": "r"
    }
   },
   "outputs": [],
   "source": [
    "df <- read_csv('https://raw.githubusercontent.com/gabichulas/ia-uncuyo-2024/refs/heads/main/tp7-ml/data/arbolado-mendoza-dataset-train.csv', show_col_types = FALSE)\n",
    "test_df <- read_csv('https://raw.githubusercontent.com/gabichulas/ia-uncuyo-2024/refs/heads/main/tp7-ml/data/arbolado-mza-dataset-test.csv', show_col_types = FALSE)\n",
    "val_df <- read_csv('https://raw.githubusercontent.com/gabichulas/ia-uncuyo-2024/refs/heads/main/tp7-ml/data/arbolado-mendoza-dataset-validation.csv', show_col_types = FALSE)"
   ]
  },
  {
   "cell_type": "code",
   "execution_count": 3,
   "metadata": {
    "vscode": {
     "languageId": "r"
    }
   },
   "outputs": [
    {
     "data": {
      "text/plain": [
       "\n",
       "   0    1 \n",
       "3500 2895 "
      ]
     },
     "metadata": {},
     "output_type": "display_data"
    }
   ],
   "source": [
    "set_1 <- df[df$inclinacion_peligrosa == 1, ]\n",
    "set_0 <- df %>% filter(inclinacion_peligrosa == 0) %>% sample_n(3500)\n",
    "data <- rbind(set_1, set_0)\n",
    "table(data$inclinacion_peligrosa)"
   ]
  },
  {
   "cell_type": "code",
   "execution_count": null,
   "metadata": {
    "vscode": {
     "languageId": "r"
    }
   },
   "outputs": [],
   "source": [
    "x <- data[, !(colnames(data) %in% c(\"inclinacion_peligrosa\", \"id\", \"area_seccion\",\"seccion\", \"ultima_modificacion\"))]\n",
    "y <- factor(data$inclinacion_peligrosa)"
   ]
  },
  {
   "cell_type": "code",
   "execution_count": null,
   "metadata": {
    "vscode": {
     "languageId": "r"
    }
   },
   "outputs": [
    {
     "name": "stdout",
     "output_type": "stream",
     "text": [
      "\n",
      "Call:\n",
      " randomForest(x = x, y = y, ntree = 10000, mtry = 2) \n",
      "               Type of random forest: classification\n",
      "                     Number of trees: 10000\n",
      "No. of variables tried at each split: 2\n",
      "\n",
      "        OOB estimate of  error rate: 30.24%\n",
      "Confusion matrix:\n",
      "     0    1 class.error\n",
      "0 2450 1050   0.3000000\n",
      "1  884 2011   0.3053541\n",
      "         Actual\n",
      "Predicted    0    1\n",
      "        0 4002  211\n",
      "        1 1696  473\n",
      "Precisión:  0.7011908 \n",
      "Recall:  0.9499169 0.2180728 \n",
      "F1-Score:  0.8068196 0.3326808 \n"
     ]
    }
   ],
   "source": [
    "model <- randomForest(x = x, y = y, ntree = 10000, mtry = 2)\n",
    "print(model)\n",
    "\n",
    "predicciones_test <- predict(model, newdata = val_df)\n",
    "\n",
    "etiquetas_reales_test <- val_df$inclinacion_peligrosa\n",
    "\n",
    "confusion_matrix_test <- table(Predicted = predicciones_test, Actual = etiquetas_reales_test)\n",
    "\n",
    "precision <- sum(diag(confusion_matrix_test)) / sum(confusion_matrix_test)\n",
    "\n",
    "print(confusion_matrix_test)\n",
    "cat(\"Precisión: \", precision, \"\\n\")"
   ]
  },
  {
   "cell_type": "code",
   "execution_count": 74,
   "metadata": {
    "vscode": {
     "languageId": "r"
    }
   },
   "outputs": [
    {
     "name": "stdout",
     "output_type": "stream",
     "text": [
      "[1] \"Predicciones guardadas en submission.csv\"\n"
     ]
    }
   ],
   "source": [
    "predicciones <- predict(model, newdata = test_df)\n",
    "\n",
    "submission <- data.frame(ID = test_df$id, inclinacion_peligrosa = predicciones)\n",
    "\n",
    "write.csv(submission, file = \"submission.csv\", row.names = FALSE)\n",
    "\n",
    "print(\"Predicciones guardadas en submission.csv\")"
   ]
  }
 ],
 "metadata": {
  "kernelspec": {
   "display_name": "R",
   "language": "R",
   "name": "ir"
  },
  "language_info": {
   "codemirror_mode": "r",
   "file_extension": ".r",
   "mimetype": "text/x-r-source",
   "name": "R",
   "pygments_lexer": "r",
   "version": "4.4.1"
  }
 },
 "nbformat": 4,
 "nbformat_minor": 2
}
